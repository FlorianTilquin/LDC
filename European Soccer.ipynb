{
 "cells": [
  {
   "cell_type": "markdown",
   "metadata": {},
   "source": [
    "# European Soccer"
   ]
  },
  {
   "cell_type": "markdown",
   "metadata": {},
   "source": [
    "## Extracting Data\n",
    "dataset available at: https://www.kaggle.com/hugomathien/soccer/data"
   ]
  },
  {
   "cell_type": "code",
   "execution_count": 85,
   "metadata": {},
   "outputs": [],
   "source": [
    "import csv\n",
    "import sqlite3 as lite"
   ]
  },
  {
   "cell_type": "code",
   "execution_count": 1,
   "metadata": {},
   "outputs": [],
   "source": [
    "import pandas as pd\n",
    "import numpy as np"
   ]
  },
  {
   "cell_type": "code",
   "execution_count": 86,
   "metadata": {},
   "outputs": [],
   "source": [
    "con = lite.connect('database.sqlite')\n",
    "\n",
    "team_df = pd.read_sql_query(\"SELECT * from Team\", con)"
   ]
  },
  {
   "cell_type": "code",
   "execution_count": 88,
   "metadata": {},
   "outputs": [
    {
     "data": {
      "text/html": [
       "<div>\n",
       "<style scoped>\n",
       "    .dataframe tbody tr th:only-of-type {\n",
       "        vertical-align: middle;\n",
       "    }\n",
       "\n",
       "    .dataframe tbody tr th {\n",
       "        vertical-align: top;\n",
       "    }\n",
       "\n",
       "    .dataframe thead th {\n",
       "        text-align: right;\n",
       "    }\n",
       "</style>\n",
       "<table border=\"1\" class=\"dataframe\">\n",
       "  <thead>\n",
       "    <tr style=\"text-align: right;\">\n",
       "      <th></th>\n",
       "      <th>id</th>\n",
       "      <th>team_api_id</th>\n",
       "      <th>team_fifa_api_id</th>\n",
       "      <th>team_long_name</th>\n",
       "      <th>team_short_name</th>\n",
       "    </tr>\n",
       "  </thead>\n",
       "  <tbody>\n",
       "    <tr>\n",
       "      <th>0</th>\n",
       "      <td>1</td>\n",
       "      <td>9987</td>\n",
       "      <td>673.0</td>\n",
       "      <td>KRC Genk</td>\n",
       "      <td>GEN</td>\n",
       "    </tr>\n",
       "    <tr>\n",
       "      <th>1</th>\n",
       "      <td>2</td>\n",
       "      <td>9993</td>\n",
       "      <td>675.0</td>\n",
       "      <td>Beerschot AC</td>\n",
       "      <td>BAC</td>\n",
       "    </tr>\n",
       "    <tr>\n",
       "      <th>2</th>\n",
       "      <td>3</td>\n",
       "      <td>10000</td>\n",
       "      <td>15005.0</td>\n",
       "      <td>SV Zulte-Waregem</td>\n",
       "      <td>ZUL</td>\n",
       "    </tr>\n",
       "    <tr>\n",
       "      <th>3</th>\n",
       "      <td>4</td>\n",
       "      <td>9994</td>\n",
       "      <td>2007.0</td>\n",
       "      <td>Sporting Lokeren</td>\n",
       "      <td>LOK</td>\n",
       "    </tr>\n",
       "    <tr>\n",
       "      <th>4</th>\n",
       "      <td>5</td>\n",
       "      <td>9984</td>\n",
       "      <td>1750.0</td>\n",
       "      <td>KSV Cercle Brugge</td>\n",
       "      <td>CEB</td>\n",
       "    </tr>\n",
       "  </tbody>\n",
       "</table>\n",
       "</div>"
      ],
      "text/plain": [
       "   id  team_api_id  team_fifa_api_id     team_long_name team_short_name\n",
       "0   1         9987             673.0           KRC Genk             GEN\n",
       "1   2         9993             675.0       Beerschot AC             BAC\n",
       "2   3        10000           15005.0   SV Zulte-Waregem             ZUL\n",
       "3   4         9994            2007.0   Sporting Lokeren             LOK\n",
       "4   5         9984            1750.0  KSV Cercle Brugge             CEB"
      ]
     },
     "execution_count": 88,
     "metadata": {},
     "output_type": "execute_result"
    }
   ],
   "source": [
    "team_df.head()"
   ]
  },
  {
   "cell_type": "code",
   "execution_count": 93,
   "metadata": {},
   "outputs": [],
   "source": [
    "team_names = team_df.set_index('team_api_id')['team_long_name'].to_dict()"
   ]
  },
  {
   "cell_type": "markdown",
   "metadata": {},
   "source": [
    "## Ligue 1 conforama"
   ]
  },
  {
   "cell_type": "code",
   "execution_count": 2,
   "metadata": {},
   "outputs": [],
   "source": [
    "df = pd.read_csv('ligue1_conforama.csv')"
   ]
  },
  {
   "cell_type": "code",
   "execution_count": 3,
   "metadata": {
    "scrolled": true
   },
   "outputs": [
    {
     "data": {
      "text/html": [
       "<div>\n",
       "<style scoped>\n",
       "    .dataframe tbody tr th:only-of-type {\n",
       "        vertical-align: middle;\n",
       "    }\n",
       "\n",
       "    .dataframe tbody tr th {\n",
       "        vertical-align: top;\n",
       "    }\n",
       "\n",
       "    .dataframe thead th {\n",
       "        text-align: right;\n",
       "    }\n",
       "</style>\n",
       "<table border=\"1\" class=\"dataframe\">\n",
       "  <thead>\n",
       "    <tr style=\"text-align: right;\">\n",
       "      <th></th>\n",
       "      <th>id</th>\n",
       "      <th>id.1</th>\n",
       "      <th>country_id</th>\n",
       "      <th>league_id</th>\n",
       "      <th>season</th>\n",
       "      <th>stage</th>\n",
       "      <th>date</th>\n",
       "      <th>match_api_id</th>\n",
       "      <th>home_team_api_id</th>\n",
       "      <th>away_team_api_id</th>\n",
       "      <th>...</th>\n",
       "      <th>SJA</th>\n",
       "      <th>VCH</th>\n",
       "      <th>VCD</th>\n",
       "      <th>VCA</th>\n",
       "      <th>GBH</th>\n",
       "      <th>GBD</th>\n",
       "      <th>GBA</th>\n",
       "      <th>BSH</th>\n",
       "      <th>BSD</th>\n",
       "      <th>BSA</th>\n",
       "    </tr>\n",
       "  </thead>\n",
       "  <tbody>\n",
       "    <tr>\n",
       "      <th>0</th>\n",
       "      <td>4769</td>\n",
       "      <td>4769</td>\n",
       "      <td>4769</td>\n",
       "      <td>4769</td>\n",
       "      <td>2008/2009</td>\n",
       "      <td>1</td>\n",
       "      <td>2008-08-09 00:00:00</td>\n",
       "      <td>483129</td>\n",
       "      <td>8583</td>\n",
       "      <td>9830</td>\n",
       "      <td>...</td>\n",
       "      <td>3.8</td>\n",
       "      <td>2.0</td>\n",
       "      <td>2.9</td>\n",
       "      <td>3.75</td>\n",
       "      <td>2.10</td>\n",
       "      <td>3.00</td>\n",
       "      <td>3.75</td>\n",
       "      <td>2.00</td>\n",
       "      <td>2.88</td>\n",
       "      <td>3.75</td>\n",
       "    </tr>\n",
       "    <tr>\n",
       "      <th>1</th>\n",
       "      <td>4770</td>\n",
       "      <td>4770</td>\n",
       "      <td>4769</td>\n",
       "      <td>4769</td>\n",
       "      <td>2008/2009</td>\n",
       "      <td>1</td>\n",
       "      <td>2008-08-09 00:00:00</td>\n",
       "      <td>483130</td>\n",
       "      <td>9827</td>\n",
       "      <td>7819</td>\n",
       "      <td>...</td>\n",
       "      <td>7.5</td>\n",
       "      <td>1.6</td>\n",
       "      <td>3.3</td>\n",
       "      <td>5.50</td>\n",
       "      <td>1.57</td>\n",
       "      <td>3.60</td>\n",
       "      <td>6.00</td>\n",
       "      <td>1.50</td>\n",
       "      <td>3.50</td>\n",
       "      <td>6.50</td>\n",
       "    </tr>\n",
       "    <tr>\n",
       "      <th>2</th>\n",
       "      <td>4771</td>\n",
       "      <td>4771</td>\n",
       "      <td>4769</td>\n",
       "      <td>4769</td>\n",
       "      <td>2008/2009</td>\n",
       "      <td>1</td>\n",
       "      <td>2008-08-09 00:00:00</td>\n",
       "      <td>483131</td>\n",
       "      <td>9746</td>\n",
       "      <td>9831</td>\n",
       "      <td>...</td>\n",
       "      <td>3.1</td>\n",
       "      <td>2.3</td>\n",
       "      <td>2.9</td>\n",
       "      <td>3.00</td>\n",
       "      <td>2.35</td>\n",
       "      <td>2.90</td>\n",
       "      <td>3.20</td>\n",
       "      <td>2.38</td>\n",
       "      <td>2.88</td>\n",
       "      <td>2.88</td>\n",
       "    </tr>\n",
       "    <tr>\n",
       "      <th>3</th>\n",
       "      <td>4772</td>\n",
       "      <td>4772</td>\n",
       "      <td>4769</td>\n",
       "      <td>4769</td>\n",
       "      <td>2008/2009</td>\n",
       "      <td>1</td>\n",
       "      <td>2008-08-09 00:00:00</td>\n",
       "      <td>483132</td>\n",
       "      <td>8682</td>\n",
       "      <td>8689</td>\n",
       "      <td>...</td>\n",
       "      <td>4.0</td>\n",
       "      <td>2.0</td>\n",
       "      <td>2.9</td>\n",
       "      <td>3.75</td>\n",
       "      <td>2.00</td>\n",
       "      <td>3.10</td>\n",
       "      <td>3.75</td>\n",
       "      <td>1.91</td>\n",
       "      <td>3.00</td>\n",
       "      <td>4.00</td>\n",
       "    </tr>\n",
       "    <tr>\n",
       "      <th>4</th>\n",
       "      <td>4773</td>\n",
       "      <td>4773</td>\n",
       "      <td>4769</td>\n",
       "      <td>4769</td>\n",
       "      <td>2008/2009</td>\n",
       "      <td>1</td>\n",
       "      <td>2008-08-10 00:00:00</td>\n",
       "      <td>483133</td>\n",
       "      <td>9748</td>\n",
       "      <td>9941</td>\n",
       "      <td>...</td>\n",
       "      <td>12.0</td>\n",
       "      <td>1.3</td>\n",
       "      <td>4.0</td>\n",
       "      <td>10.00</td>\n",
       "      <td>1.36</td>\n",
       "      <td>4.25</td>\n",
       "      <td>9.00</td>\n",
       "      <td>1.30</td>\n",
       "      <td>4.33</td>\n",
       "      <td>9.00</td>\n",
       "    </tr>\n",
       "  </tbody>\n",
       "</table>\n",
       "<p>5 rows × 116 columns</p>\n",
       "</div>"
      ],
      "text/plain": [
       "     id  id.1  country_id  league_id     season  stage                 date  \\\n",
       "0  4769  4769        4769       4769  2008/2009      1  2008-08-09 00:00:00   \n",
       "1  4770  4770        4769       4769  2008/2009      1  2008-08-09 00:00:00   \n",
       "2  4771  4771        4769       4769  2008/2009      1  2008-08-09 00:00:00   \n",
       "3  4772  4772        4769       4769  2008/2009      1  2008-08-09 00:00:00   \n",
       "4  4773  4773        4769       4769  2008/2009      1  2008-08-10 00:00:00   \n",
       "\n",
       "   match_api_id  home_team_api_id  away_team_api_id  ...    SJA  VCH  VCD  \\\n",
       "0        483129              8583              9830  ...    3.8  2.0  2.9   \n",
       "1        483130              9827              7819  ...    7.5  1.6  3.3   \n",
       "2        483131              9746              9831  ...    3.1  2.3  2.9   \n",
       "3        483132              8682              8689  ...    4.0  2.0  2.9   \n",
       "4        483133              9748              9941  ...   12.0  1.3  4.0   \n",
       "\n",
       "     VCA   GBH   GBD   GBA   BSH   BSD   BSA  \n",
       "0   3.75  2.10  3.00  3.75  2.00  2.88  3.75  \n",
       "1   5.50  1.57  3.60  6.00  1.50  3.50  6.50  \n",
       "2   3.00  2.35  2.90  3.20  2.38  2.88  2.88  \n",
       "3   3.75  2.00  3.10  3.75  1.91  3.00  4.00  \n",
       "4  10.00  1.36  4.25  9.00  1.30  4.33  9.00  \n",
       "\n",
       "[5 rows x 116 columns]"
      ]
     },
     "execution_count": 3,
     "metadata": {},
     "output_type": "execute_result"
    }
   ],
   "source": [
    "df.head()"
   ]
  },
  {
   "cell_type": "markdown",
   "metadata": {},
   "source": [
    "### On mesure la probabilité empirique pour l'équipe qui accueille de V/N/D"
   ]
  },
  {
   "cell_type": "code",
   "execution_count": 4,
   "metadata": {},
   "outputs": [],
   "source": [
    "df['goal_diff'] = df['home_team_goal'] - df['away_team_goal']"
   ]
  },
  {
   "cell_type": "code",
   "execution_count": 5,
   "metadata": {},
   "outputs": [],
   "source": [
    "def delta_to_result(delta):\n",
    "    if delta > 0:\n",
    "        return 'V'\n",
    "    if delta == 0:\n",
    "        return 'N'\n",
    "    else:\n",
    "        return 'D'"
   ]
  },
  {
   "cell_type": "code",
   "execution_count": 6,
   "metadata": {},
   "outputs": [],
   "source": [
    "df['home_team_result'] = df['goal_diff'].map(delta_to_result)"
   ]
  },
  {
   "cell_type": "code",
   "execution_count": 7,
   "metadata": {},
   "outputs": [
    {
     "data": {
      "text/plain": [
       "0    V\n",
       "1    V\n",
       "2    V\n",
       "3    D\n",
       "4    V\n",
       "Name: home_team_result, dtype: object"
      ]
     },
     "execution_count": 7,
     "metadata": {},
     "output_type": "execute_result"
    }
   ],
   "source": [
    "df['home_team_result'].head()"
   ]
  },
  {
   "cell_type": "code",
   "execution_count": 9,
   "metadata": {
    "scrolled": true
   },
   "outputs": [
    {
     "data": {
      "text/html": [
       "<div>\n",
       "<style scoped>\n",
       "    .dataframe tbody tr th:only-of-type {\n",
       "        vertical-align: middle;\n",
       "    }\n",
       "\n",
       "    .dataframe tbody tr th {\n",
       "        vertical-align: top;\n",
       "    }\n",
       "\n",
       "    .dataframe thead th {\n",
       "        text-align: right;\n",
       "    }\n",
       "</style>\n",
       "<table border=\"1\" class=\"dataframe\">\n",
       "  <thead>\n",
       "    <tr style=\"text-align: right;\">\n",
       "      <th></th>\n",
       "      <th>id</th>\n",
       "      <th>id.1</th>\n",
       "      <th>country_id</th>\n",
       "      <th>league_id</th>\n",
       "      <th>season</th>\n",
       "      <th>stage</th>\n",
       "      <th>date</th>\n",
       "      <th>match_api_id</th>\n",
       "      <th>home_team_api_id</th>\n",
       "      <th>away_team_api_id</th>\n",
       "      <th>...</th>\n",
       "      <th>VCH</th>\n",
       "      <th>VCD</th>\n",
       "      <th>VCA</th>\n",
       "      <th>GBH</th>\n",
       "      <th>GBD</th>\n",
       "      <th>GBA</th>\n",
       "      <th>BSH</th>\n",
       "      <th>BSD</th>\n",
       "      <th>BSA</th>\n",
       "      <th>goal_diff</th>\n",
       "    </tr>\n",
       "    <tr>\n",
       "      <th>home_team_result</th>\n",
       "      <th></th>\n",
       "      <th></th>\n",
       "      <th></th>\n",
       "      <th></th>\n",
       "      <th></th>\n",
       "      <th></th>\n",
       "      <th></th>\n",
       "      <th></th>\n",
       "      <th></th>\n",
       "      <th></th>\n",
       "      <th></th>\n",
       "      <th></th>\n",
       "      <th></th>\n",
       "      <th></th>\n",
       "      <th></th>\n",
       "      <th></th>\n",
       "      <th></th>\n",
       "      <th></th>\n",
       "      <th></th>\n",
       "      <th></th>\n",
       "      <th></th>\n",
       "    </tr>\n",
       "  </thead>\n",
       "  <tbody>\n",
       "    <tr>\n",
       "      <th>D</th>\n",
       "      <td>822</td>\n",
       "      <td>822</td>\n",
       "      <td>822</td>\n",
       "      <td>822</td>\n",
       "      <td>822</td>\n",
       "      <td>822</td>\n",
       "      <td>822</td>\n",
       "      <td>822</td>\n",
       "      <td>822</td>\n",
       "      <td>822</td>\n",
       "      <td>...</td>\n",
       "      <td>822</td>\n",
       "      <td>822</td>\n",
       "      <td>822</td>\n",
       "      <td>495</td>\n",
       "      <td>495</td>\n",
       "      <td>495</td>\n",
       "      <td>495</td>\n",
       "      <td>495</td>\n",
       "      <td>495</td>\n",
       "      <td>822</td>\n",
       "    </tr>\n",
       "    <tr>\n",
       "      <th>N</th>\n",
       "      <td>859</td>\n",
       "      <td>859</td>\n",
       "      <td>859</td>\n",
       "      <td>859</td>\n",
       "      <td>859</td>\n",
       "      <td>859</td>\n",
       "      <td>859</td>\n",
       "      <td>859</td>\n",
       "      <td>859</td>\n",
       "      <td>859</td>\n",
       "      <td>...</td>\n",
       "      <td>859</td>\n",
       "      <td>859</td>\n",
       "      <td>859</td>\n",
       "      <td>555</td>\n",
       "      <td>555</td>\n",
       "      <td>555</td>\n",
       "      <td>555</td>\n",
       "      <td>555</td>\n",
       "      <td>555</td>\n",
       "      <td>859</td>\n",
       "    </tr>\n",
       "    <tr>\n",
       "      <th>V</th>\n",
       "      <td>1359</td>\n",
       "      <td>1359</td>\n",
       "      <td>1359</td>\n",
       "      <td>1359</td>\n",
       "      <td>1359</td>\n",
       "      <td>1359</td>\n",
       "      <td>1359</td>\n",
       "      <td>1359</td>\n",
       "      <td>1359</td>\n",
       "      <td>1359</td>\n",
       "      <td>...</td>\n",
       "      <td>1356</td>\n",
       "      <td>1356</td>\n",
       "      <td>1356</td>\n",
       "      <td>847</td>\n",
       "      <td>847</td>\n",
       "      <td>847</td>\n",
       "      <td>847</td>\n",
       "      <td>847</td>\n",
       "      <td>847</td>\n",
       "      <td>1359</td>\n",
       "    </tr>\n",
       "  </tbody>\n",
       "</table>\n",
       "<p>3 rows × 117 columns</p>\n",
       "</div>"
      ],
      "text/plain": [
       "                    id  id.1  country_id  league_id  season  stage  date  \\\n",
       "home_team_result                                                           \n",
       "D                  822   822         822        822     822    822   822   \n",
       "N                  859   859         859        859     859    859   859   \n",
       "V                 1359  1359        1359       1359    1359   1359  1359   \n",
       "\n",
       "                  match_api_id  home_team_api_id  away_team_api_id    ...      \\\n",
       "home_team_result                                                      ...       \n",
       "D                          822               822               822    ...       \n",
       "N                          859               859               859    ...       \n",
       "V                         1359              1359              1359    ...       \n",
       "\n",
       "                   VCH   VCD   VCA  GBH  GBD  GBA  BSH  BSD  BSA  goal_diff  \n",
       "home_team_result                                                             \n",
       "D                  822   822   822  495  495  495  495  495  495        822  \n",
       "N                  859   859   859  555  555  555  555  555  555        859  \n",
       "V                 1356  1356  1356  847  847  847  847  847  847       1359  \n",
       "\n",
       "[3 rows x 117 columns]"
      ]
     },
     "execution_count": 9,
     "metadata": {},
     "output_type": "execute_result"
    }
   ],
   "source": [
    "df.groupby('home_team_result').count()"
   ]
  },
  {
   "cell_type": "code",
   "execution_count": 10,
   "metadata": {},
   "outputs": [],
   "source": [
    "pV = 1359. / len(df.index)\n",
    "pN = 859. / len(df.index)\n",
    "pD = 822. / len(df.index)"
   ]
  },
  {
   "cell_type": "code",
   "execution_count": 11,
   "metadata": {},
   "outputs": [
    {
     "data": {
      "text/plain": [
       "array([ 0.44703947,  0.28256579,  0.27039474])"
      ]
     },
     "execution_count": 11,
     "metadata": {},
     "output_type": "execute_result"
    }
   ],
   "source": [
    "# empiric probas of V/N/D for the home_team\n",
    "p = np.array([pV, pN, pD])\n",
    "p"
   ]
  },
  {
   "cell_type": "markdown",
   "metadata": {},
   "source": [
    "## On aggrège les résultats de la première saison"
   ]
  },
  {
   "cell_type": "code",
   "execution_count": 30,
   "metadata": {},
   "outputs": [],
   "source": [
    "prev_season = df[df['season'] == '2008/2009']"
   ]
  },
  {
   "cell_type": "code",
   "execution_count": 32,
   "metadata": {},
   "outputs": [],
   "source": [
    "home_avg = prev_season[['home_team_api_id', 'home_team_goal']].groupby('home_team_api_id').mean().reset_index()"
   ]
  },
  {
   "cell_type": "code",
   "execution_count": 33,
   "metadata": {},
   "outputs": [],
   "source": [
    "away_avg = prev_season[['away_team_api_id', 'away_team_goal']].groupby('away_team_api_id').mean().reset_index()"
   ]
  },
  {
   "cell_type": "code",
   "execution_count": 34,
   "metadata": {},
   "outputs": [],
   "source": [
    "prev_teams = prev_season['home_team_api_id'].drop_duplicates().tolist()"
   ]
  },
  {
   "cell_type": "code",
   "execution_count": 50,
   "metadata": {},
   "outputs": [
    {
     "data": {
      "text/html": [
       "<div>\n",
       "<style scoped>\n",
       "    .dataframe tbody tr th:only-of-type {\n",
       "        vertical-align: middle;\n",
       "    }\n",
       "\n",
       "    .dataframe tbody tr th {\n",
       "        vertical-align: top;\n",
       "    }\n",
       "\n",
       "    .dataframe thead th {\n",
       "        text-align: right;\n",
       "    }\n",
       "</style>\n",
       "<table border=\"1\" class=\"dataframe\">\n",
       "  <thead>\n",
       "    <tr style=\"text-align: right;\">\n",
       "      <th></th>\n",
       "      <th>home_team_api_id</th>\n",
       "      <th>home_team_goal</th>\n",
       "    </tr>\n",
       "  </thead>\n",
       "  <tbody>\n",
       "    <tr>\n",
       "      <th>0</th>\n",
       "      <td>7819</td>\n",
       "      <td>1.157895</td>\n",
       "    </tr>\n",
       "    <tr>\n",
       "      <th>1</th>\n",
       "      <td>8481</td>\n",
       "      <td>1.000000</td>\n",
       "    </tr>\n",
       "    <tr>\n",
       "      <th>2</th>\n",
       "      <td>8583</td>\n",
       "      <td>0.947368</td>\n",
       "    </tr>\n",
       "    <tr>\n",
       "      <th>3</th>\n",
       "      <td>8592</td>\n",
       "      <td>1.842105</td>\n",
       "    </tr>\n",
       "    <tr>\n",
       "      <th>4</th>\n",
       "      <td>8639</td>\n",
       "      <td>1.789474</td>\n",
       "    </tr>\n",
       "  </tbody>\n",
       "</table>\n",
       "</div>"
      ],
      "text/plain": [
       "   home_team_api_id  home_team_goal\n",
       "0              7819        1.157895\n",
       "1              8481        1.000000\n",
       "2              8583        0.947368\n",
       "3              8592        1.842105\n",
       "4              8639        1.789474"
      ]
     },
     "execution_count": 50,
     "metadata": {},
     "output_type": "execute_result"
    }
   ],
   "source": [
    "home_avg.head()"
   ]
  },
  {
   "cell_type": "code",
   "execution_count": 58,
   "metadata": {
    "scrolled": true
   },
   "outputs": [
    {
     "data": {
      "text/plain": [
       "1.1578947368421053"
      ]
     },
     "execution_count": 58,
     "metadata": {},
     "output_type": "execute_result"
    }
   ],
   "source": [
    "sum(home_avg[home_avg['home_team_api_id']==7819]['home_team_goal'])"
   ]
  },
  {
   "cell_type": "markdown",
   "metadata": {},
   "source": [
    "### On construit le graph"
   ]
  },
  {
   "cell_type": "code",
   "execution_count": 22,
   "metadata": {},
   "outputs": [],
   "source": [
    "import networkx as nx"
   ]
  },
  {
   "cell_type": "code",
   "execution_count": 23,
   "metadata": {},
   "outputs": [],
   "source": [
    "season = df[df['season'] == '2009/2010']"
   ]
  },
  {
   "cell_type": "code",
   "execution_count": 70,
   "metadata": {},
   "outputs": [],
   "source": [
    "teams = season['home_team_api_id'].drop_duplicates().tolist()"
   ]
  },
  {
   "cell_type": "code",
   "execution_count": 124,
   "metadata": {},
   "outputs": [],
   "source": [
    "g = nx.DiGraph()"
   ]
  },
  {
   "cell_type": "code",
   "execution_count": 125,
   "metadata": {},
   "outputs": [],
   "source": [
    "for team_id in teams:\n",
    "    g.add_node((team_id, 'h'), name = team_names[team_id], ha = 'h')\n",
    "    g.add_node((team_id, 'a'), name = team_names[team_id], ha = 'a')"
   ]
  },
  {
   "cell_type": "code",
   "execution_count": 126,
   "metadata": {},
   "outputs": [],
   "source": [
    "for i in teams:\n",
    "    \n",
    "    if i in prev_teams:\n",
    "        for j in teams:\n",
    "            if i != j:\n",
    "                wh = sum(home_avg[home_avg['home_team_api_id']==i]['home_team_goal'])\n",
    "                g.add_edge((i, 'h'), (j, 'a'), weight = wh)\n",
    "\n",
    "                wa = sum(away_avg[away_avg['away_team_api_id']==i]['away_team_goal'])\n",
    "                g.add_edge((i, 'a'), (j, 'h'), weight = wa)\n",
    "            \n",
    "    else:\n",
    "        for j in teams:\n",
    "            if i != j:\n",
    "                wh = min(home_avg['home_team_goal'])\n",
    "                g.add_edge((i, 'h'), (j, 'a'), weight = wh)\n",
    "\n",
    "                wa = min(away_avg['away_team_goal'])\n",
    "                g.add_edge((i, 'a'), (j, 'h'), weight = wa)"
   ]
  },
  {
   "cell_type": "code",
   "execution_count": 99,
   "metadata": {},
   "outputs": [],
   "source": [
    "nx.write_gexf(g, \"L1.gexf\")"
   ]
  },
  {
   "cell_type": "code",
   "execution_count": 81,
   "metadata": {},
   "outputs": [],
   "source": [
    "pr = nx.pagerank(g, alpha=1.)"
   ]
  },
  {
   "cell_type": "code",
   "execution_count": 82,
   "metadata": {
    "collapsed": true
   },
   "outputs": [
    {
     "data": {
      "text/plain": [
       "[((9829, 'a'), 0.025000000000000005),\n",
       " ((9873, 'a'), 0.025000000000000005),\n",
       " ((9831, 'a'), 0.025000000000000005),\n",
       " ((9855, 'a'), 0.025000000000000005),\n",
       " ((10249, 'a'), 0.025000000000000005),\n",
       " ((9827, 'a'), 0.025000000000000005),\n",
       " ((9748, 'a'), 0.025000000000000005),\n",
       " ((8481, 'a'), 0.025000000000000005),\n",
       " ((9874, 'a'), 0.025000000000000005),\n",
       " ((9851, 'a'), 0.025000000000000005),\n",
       " ((4170, 'a'), 0.025000000000000005),\n",
       " ((8689, 'a'), 0.025000000000000005),\n",
       " ((8583, 'a'), 0.025000000000000005),\n",
       " ((8639, 'a'), 0.025000000000000005),\n",
       " ((9847, 'a'), 0.025000000000000005),\n",
       " ((8592, 'a'), 0.025000000000000005),\n",
       " ((9941, 'a'), 0.025000000000000005),\n",
       " ((8588, 'a'), 0.025000000000000005),\n",
       " ((8682, 'a'), 0.025000000000000005),\n",
       " ((9853, 'a'), 0.02500000000000001),\n",
       " ((8682, 'h'), 0.025000000000000012),\n",
       " ((8588, 'h'), 0.025000000000000012),\n",
       " ((9829, 'h'), 0.025000000000000012),\n",
       " ((8583, 'h'), 0.025000000000000012),\n",
       " ((9851, 'h'), 0.025000000000000012),\n",
       " ((9748, 'h'), 0.025000000000000012),\n",
       " ((8481, 'h'), 0.025000000000000012),\n",
       " ((8639, 'h'), 0.025000000000000012),\n",
       " ((9853, 'h'), 0.025000000000000012),\n",
       " ((8689, 'h'), 0.025000000000000012),\n",
       " ((4170, 'h'), 0.025000000000000012),\n",
       " ((9873, 'h'), 0.025000000000000012),\n",
       " ((9831, 'h'), 0.025000000000000012),\n",
       " ((9874, 'h'), 0.025000000000000012),\n",
       " ((9855, 'h'), 0.025000000000000012),\n",
       " ((8592, 'h'), 0.025000000000000012),\n",
       " ((9827, 'h'), 0.025000000000000012),\n",
       " ((9941, 'h'), 0.025000000000000012),\n",
       " ((9847, 'h'), 0.025000000000000012),\n",
       " ((10249, 'h'), 0.025000000000000012)]"
      ]
     },
     "execution_count": 82,
     "metadata": {},
     "output_type": "execute_result"
    }
   ],
   "source": [
    "sorted([(key, value) for key, value in pr.items()], key = lambda x: x[1])"
   ]
  },
  {
   "cell_type": "code",
   "execution_count": 127,
   "metadata": {},
   "outputs": [],
   "source": [
    "for stage in range(1,39):\n",
    "    for (u,v) in g.edges():\n",
    "        g[u][v]['weight'] *= 0.5\n",
    "        \n",
    "    day = season[season['stage']==stage]\n",
    "    \n",
    "    for row in day[['home_team_api_id', 'away_team_api_id', 'home_team_goal', 'away_team_goal']].iterrows():\n",
    "        row = row[1]\n",
    "        ht_id = row['home_team_api_id']\n",
    "        at_id = row['away_team_api_id']\n",
    "        htg = row['home_team_goal']\n",
    "        atg = row['away_team_goal']\n",
    "\n",
    "        g[(ht_id, 'h')][(at_id, 'a')]['weight'] += 0.5 * htg\n",
    "        g[(at_id, 'a')][(ht_id, 'h')]['weight'] += 0.5 * atg"
   ]
  },
  {
   "cell_type": "code",
   "execution_count": 133,
   "metadata": {},
   "outputs": [],
   "source": [
    "pr = nx.pagerank(g, alpha=0.7)"
   ]
  },
  {
   "cell_type": "code",
   "execution_count": 135,
   "metadata": {},
   "outputs": [],
   "source": [
    "spr = sorted([((team_names[key[0]], key[1]), value) for key, value in pr.items()], key = lambda x: x[1])"
   ]
  },
  {
   "cell_type": "code",
   "execution_count": 138,
   "metadata": {},
   "outputs": [],
   "source": [
    "scores = {}\n",
    "for ((team, ha), pr) in spr:\n",
    "    if team in scores:\n",
    "        scores[team] += pr\n",
    "    else:\n",
    "        scores[team] = pr"
   ]
  },
  {
   "cell_type": "code",
   "execution_count": 140,
   "metadata": {},
   "outputs": [
    {
     "data": {
      "text/plain": [
       "[('Toulouse FC', 0.023625509736124959),\n",
       " (\"US Boulogne Cote D'Opale\", 0.029820104575955624),\n",
       " ('Olympique Lyonnais', 0.033323692289347499),\n",
       " ('Le Mans FC', 0.037792703007271014),\n",
       " ('AS Monaco', 0.038609723257016434),\n",
       " ('Olympique de Marseille', 0.038934731142824835),\n",
       " ('Grenoble Foot 38', 0.040753128341530886),\n",
       " ('Paris Saint-Germain', 0.046458384406384889),\n",
       " ('LOSC Lille', 0.047694811892405653),\n",
       " ('Valenciennes FC', 0.051481061921394886),\n",
       " ('Stade Rennais FC', 0.051612293400432586),\n",
       " ('FC Sochaux-Montbéliard', 0.05353634904798827),\n",
       " ('AS Saint-Étienne', 0.054220800109112781),\n",
       " ('AJ Auxerre', 0.055611240408380447),\n",
       " ('OGC Nice', 0.056039812085183036),\n",
       " ('Girondins de Bordeaux', 0.057462729615491905),\n",
       " ('Montpellier Hérault SC', 0.060830299379942131),\n",
       " ('AS Nancy-Lorraine', 0.062619163627455329),\n",
       " ('FC Lorient', 0.074040343231732475),\n",
       " ('RC Lens', 0.085533118524024496)]"
      ]
     },
     "execution_count": 140,
     "metadata": {},
     "output_type": "execute_result"
    }
   ],
   "source": [
    "sorted([(key, value) for key, value in scores.items()], key = lambda x: x[1]) "
   ]
  }
 ],
 "metadata": {
  "kernelspec": {
   "display_name": "Python 3",
   "language": "python",
   "name": "python3"
  },
  "language_info": {
   "codemirror_mode": {
    "name": "ipython",
    "version": 3
   },
   "file_extension": ".py",
   "mimetype": "text/x-python",
   "name": "python",
   "nbconvert_exporter": "python",
   "pygments_lexer": "ipython3",
   "version": "3.5.2"
  }
 },
 "nbformat": 4,
 "nbformat_minor": 2
}
