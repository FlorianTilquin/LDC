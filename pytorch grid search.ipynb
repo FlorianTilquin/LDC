{
 "cells": [
  {
   "cell_type": "markdown",
   "metadata": {},
   "source": [
    "# Grid search for soccer match result prediction"
   ]
  },
  {
   "cell_type": "code",
   "execution_count": 1,
   "metadata": {},
   "outputs": [],
   "source": [
    "import numpy as np\n",
    "import pickle as pkl"
   ]
  },
  {
   "cell_type": "code",
   "execution_count": 2,
   "metadata": {},
   "outputs": [],
   "source": [
    "import torch\n",
    "import torch.utils.data"
   ]
  },
  {
   "cell_type": "code",
   "execution_count": 3,
   "metadata": {},
   "outputs": [],
   "source": [
    "from torch.autograd import Variable\n",
    "import torch.nn as nn\n",
    "import torch.nn.functional as F"
   ]
  },
  {
   "cell_type": "code",
   "execution_count": 4,
   "metadata": {},
   "outputs": [],
   "source": [
    "import torch.optim as optim"
   ]
  },
  {
   "cell_type": "markdown",
   "metadata": {},
   "source": [
    "## Data import"
   ]
  },
  {
   "cell_type": "code",
   "execution_count": 5,
   "metadata": {},
   "outputs": [],
   "source": [
    "soccer_data = pkl.load(open('soccer_tensors.p', 'rb'))"
   ]
  },
  {
   "cell_type": "code",
   "execution_count": 6,
   "metadata": {},
   "outputs": [],
   "source": [
    "X_train_ts, X_test_ts, y_train_ts, y_test_ts, class_weights_ts = soccer_data"
   ]
  },
  {
   "cell_type": "markdown",
   "metadata": {},
   "source": [
    "### hyperparameters"
   ]
  },
  {
   "cell_type": "markdown",
   "metadata": {},
   "source": [
    "hp = {\n",
    "    'batch_size' : 256, #size of the batch for each gradient step\n",
    "    'dropout_prob' : 0.5, #probability of dropping a neuron of the hidden layer\n",
    "    'hl_size' : 50, #size of the hidden layer\n",
    "    'lr' : 0.0001, #learning rate\n",
    "    'momentum' : 0.9, #porportion of the previous gradient to add to the new one\n",
    "    'n_epochs' : 10 #number of loops over the training data for SGD\n",
    "}"
   ]
  },
  {
   "cell_type": "markdown",
   "metadata": {},
   "source": [
    "## Model design"
   ]
  },
  {
   "cell_type": "code",
   "execution_count": 8,
   "metadata": {},
   "outputs": [],
   "source": [
    "\"\"\"\n",
    "inputs: - hp (dict,  hyper parameters)\n",
    "        - n_tests (integer, the number of tests to make with a given network)\n",
    "outputs: - mean_acc (float, average accuracy over n_tests runs)\n",
    "         - std_acc (float, standard deviation of accuracy over n_tests runs)\n",
    "\"\"\"\n",
    "def get_accuracy(hp, n_tests):\n",
    "    \n",
    "    batch_size = hp['batch_size']\n",
    "    dropout_prob = hp['dropout_prob']\n",
    "    hl_size = hp['hl_size']\n",
    "    lr = hp['lr']\n",
    "    momentum = hp['momentum']\n",
    "    n_epochs = hp['n_epochs']\n",
    "\n",
    "    #model design\n",
    "    class Net(nn.Module):\n",
    "        def __init__(self):\n",
    "            super(Net, self).__init__()\n",
    "            self.fc1 = nn.Linear(614, hl_size)\n",
    "            self.fc2 = nn.Linear(hl_size, 3)\n",
    "            self.dropoutLayer = nn.Dropout(p = dropout_prob)\n",
    "\n",
    "        def forward(self, x):\n",
    "            x = F.relu(self.fc1(x))\n",
    "            x = self.dropoutLayer(x)\n",
    "            x = self.fc2(x)\n",
    "            return x\n",
    "\n",
    "    net = Net()\n",
    "    \n",
    "    #loss and gradient settings\n",
    "    criterion = nn.CrossEntropyLoss(weight = class_weights_ts)\n",
    "    optimizer = optim.SGD(net.parameters(), lr=lr, momentum=momentum)\n",
    "    \n",
    "    #building datasets\n",
    "    trainset = torch.utils.data.TensorDataset(X_train_ts, y_train_ts)\n",
    "    testset = torch.utils.data.TensorDataset(X_test_ts, y_test_ts)\n",
    "\n",
    "    trainloader = torch.utils.data.DataLoader(trainset, shuffle=True, batch_size= batch_size)\n",
    "    testloader = torch.utils.data.DataLoader(testset, shuffle=True, batch_size= batch_size)\n",
    "    \n",
    "    #training    \n",
    "    for epoch in range(n_epochs):  # loop over the dataset multiple times\n",
    "\n",
    "        for i, data in enumerate(trainloader, 0):\n",
    "            # get the inputs\n",
    "            inputs, labels = data\n",
    "\n",
    "            # wrap them in Variable\n",
    "            inputs, labels = Variable(inputs), Variable(labels)\n",
    "\n",
    "            # zero the parameter gradients\n",
    "            optimizer.zero_grad()\n",
    "\n",
    "            # forward + backward + optimize\n",
    "            outputs = net(inputs)\n",
    "            loss = criterion(outputs, labels)\n",
    "            loss.backward()\n",
    "            optimizer.step()\n",
    "\n",
    "    acc = np.zeros(n_tests)\n",
    "    for i in range(n_tests):\n",
    "        correct = 0\n",
    "        total = 0\n",
    "        for data in testloader:\n",
    "            matchs, labels = data\n",
    "            outputs = net(Variable(matchs))\n",
    "            _, predicted = torch.max(outputs.data, 1)\n",
    "            total += labels.size(0)\n",
    "            correct += (predicted == labels).sum()\n",
    "        \n",
    "        acc[i] = 1. * correct / total\n",
    "        \n",
    "    return np.mean(acc), np.std(acc)"
   ]
  },
  {
   "cell_type": "markdown",
   "metadata": {},
   "source": [
    "## Grid design"
   ]
  },
  {
   "cell_type": "code",
   "execution_count": 16,
   "metadata": {},
   "outputs": [],
   "source": [
    "hp_grid = {\n",
    "    'batch_size' : [1, 64, 256], #size of the batch for each gradient step\n",
    "    'dropout_prob' : [0.2, 0.35, 0.5], #probability of dropping a neuron of the hidden layer\n",
    "    'hl_size' : [50, 150, 300], #size of the hidden layer\n",
    "    'lr' : [0.0001, 0.0005, 0.001], #learning rate\n",
    "    'momentum' : [0.8, 0.9, 0.99], #porportion of the previous gradient to add to the new one\n",
    "    'n_epochs' : [1000] #number of loops over the training data for SGD\n",
    "}\n",
    "\n",
    "grid_size = 1\n",
    "for key, value in hp_grid.items():\n",
    "    grid_size *= len(value)"
   ]
  },
  {
   "cell_type": "code",
   "execution_count": 15,
   "metadata": {},
   "outputs": [],
   "source": [
    "\"\"\"\n",
    "keys: set of hyperparameters\n",
    "values: mean_acc, std_acc\n",
    "\"\"\"\n",
    "res = {}"
   ]
  },
  {
   "cell_type": "code",
   "execution_count": null,
   "metadata": {},
   "outputs": [],
   "source": [
    "for i in range(grid_size):\n",
    "    hp = {}\n",
    "    for key, value in hp_grid.items():\n",
    "        n = len(value)\n",
    "        hp[key] = value[i%n]\n",
    "        i /= n\n",
    "        \n",
    "    res[hp] = get_accuracy(hp, 100)"
   ]
  }
 ],
 "metadata": {
  "kernelspec": {
   "display_name": "Python 3",
   "language": "python",
   "name": "python3"
  },
  "language_info": {
   "codemirror_mode": {
    "name": "ipython",
    "version": 3
   },
   "file_extension": ".py",
   "mimetype": "text/x-python",
   "name": "python",
   "nbconvert_exporter": "python",
   "pygments_lexer": "ipython3",
   "version": "3.5.4"
  }
 },
 "nbformat": 4,
 "nbformat_minor": 2
}
