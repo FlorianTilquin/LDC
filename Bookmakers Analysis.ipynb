{
 "cells": [
  {
   "cell_type": "markdown",
   "metadata": {},
   "source": [
    "# Bookmakers performance analysis"
   ]
  },
  {
   "cell_type": "code",
   "execution_count": 123,
   "metadata": {},
   "outputs": [],
   "source": [
    "import collections\n",
    "import csv\n",
    "import numpy as np\n",
    "import pandas as pd\n",
    "import sqlite3 as lite\n",
    "\n",
    "from sklearn.preprocessing import normalize\n",
    "\n",
    "pd.options.mode.chained_assignment = None  # default='warn'\n",
    "\n",
    "import matplotlib as mpl\n",
    "import matplotlib.pyplot as plt\n",
    "%matplotlib inline"
   ]
  },
  {
   "cell_type": "code",
   "execution_count": 102,
   "metadata": {},
   "outputs": [],
   "source": [
    "con = lite.connect('database.sqlite')\n",
    "df = pd.read_sql_query('select * from match', con)"
   ]
  },
  {
   "cell_type": "code",
   "execution_count": 103,
   "metadata": {},
   "outputs": [
    {
     "data": {
      "text/html": [
       "<div>\n",
       "<style scoped>\n",
       "    .dataframe tbody tr th:only-of-type {\n",
       "        vertical-align: middle;\n",
       "    }\n",
       "\n",
       "    .dataframe tbody tr th {\n",
       "        vertical-align: top;\n",
       "    }\n",
       "\n",
       "    .dataframe thead th {\n",
       "        text-align: right;\n",
       "    }\n",
       "</style>\n",
       "<table border=\"1\" class=\"dataframe\">\n",
       "  <thead>\n",
       "    <tr style=\"text-align: right;\">\n",
       "      <th></th>\n",
       "      <th>id</th>\n",
       "      <th>country_id</th>\n",
       "      <th>league_id</th>\n",
       "      <th>season</th>\n",
       "      <th>stage</th>\n",
       "      <th>date</th>\n",
       "      <th>match_api_id</th>\n",
       "      <th>home_team_api_id</th>\n",
       "      <th>away_team_api_id</th>\n",
       "      <th>home_team_goal</th>\n",
       "      <th>...</th>\n",
       "      <th>SJA</th>\n",
       "      <th>VCH</th>\n",
       "      <th>VCD</th>\n",
       "      <th>VCA</th>\n",
       "      <th>GBH</th>\n",
       "      <th>GBD</th>\n",
       "      <th>GBA</th>\n",
       "      <th>BSH</th>\n",
       "      <th>BSD</th>\n",
       "      <th>BSA</th>\n",
       "    </tr>\n",
       "  </thead>\n",
       "  <tbody>\n",
       "    <tr>\n",
       "      <th>0</th>\n",
       "      <td>1</td>\n",
       "      <td>1</td>\n",
       "      <td>1</td>\n",
       "      <td>2008/2009</td>\n",
       "      <td>1</td>\n",
       "      <td>2008-08-17 00:00:00</td>\n",
       "      <td>492473</td>\n",
       "      <td>9987</td>\n",
       "      <td>9993</td>\n",
       "      <td>1</td>\n",
       "      <td>...</td>\n",
       "      <td>4.00</td>\n",
       "      <td>1.65</td>\n",
       "      <td>3.40</td>\n",
       "      <td>4.50</td>\n",
       "      <td>1.78</td>\n",
       "      <td>3.25</td>\n",
       "      <td>4.00</td>\n",
       "      <td>1.73</td>\n",
       "      <td>3.40</td>\n",
       "      <td>4.20</td>\n",
       "    </tr>\n",
       "    <tr>\n",
       "      <th>1</th>\n",
       "      <td>2</td>\n",
       "      <td>1</td>\n",
       "      <td>1</td>\n",
       "      <td>2008/2009</td>\n",
       "      <td>1</td>\n",
       "      <td>2008-08-16 00:00:00</td>\n",
       "      <td>492474</td>\n",
       "      <td>10000</td>\n",
       "      <td>9994</td>\n",
       "      <td>0</td>\n",
       "      <td>...</td>\n",
       "      <td>3.80</td>\n",
       "      <td>2.00</td>\n",
       "      <td>3.25</td>\n",
       "      <td>3.25</td>\n",
       "      <td>1.85</td>\n",
       "      <td>3.25</td>\n",
       "      <td>3.75</td>\n",
       "      <td>1.91</td>\n",
       "      <td>3.25</td>\n",
       "      <td>3.60</td>\n",
       "    </tr>\n",
       "    <tr>\n",
       "      <th>2</th>\n",
       "      <td>3</td>\n",
       "      <td>1</td>\n",
       "      <td>1</td>\n",
       "      <td>2008/2009</td>\n",
       "      <td>1</td>\n",
       "      <td>2008-08-16 00:00:00</td>\n",
       "      <td>492475</td>\n",
       "      <td>9984</td>\n",
       "      <td>8635</td>\n",
       "      <td>0</td>\n",
       "      <td>...</td>\n",
       "      <td>2.50</td>\n",
       "      <td>2.35</td>\n",
       "      <td>3.25</td>\n",
       "      <td>2.65</td>\n",
       "      <td>2.50</td>\n",
       "      <td>3.20</td>\n",
       "      <td>2.50</td>\n",
       "      <td>2.30</td>\n",
       "      <td>3.20</td>\n",
       "      <td>2.75</td>\n",
       "    </tr>\n",
       "    <tr>\n",
       "      <th>3</th>\n",
       "      <td>4</td>\n",
       "      <td>1</td>\n",
       "      <td>1</td>\n",
       "      <td>2008/2009</td>\n",
       "      <td>1</td>\n",
       "      <td>2008-08-17 00:00:00</td>\n",
       "      <td>492476</td>\n",
       "      <td>9991</td>\n",
       "      <td>9998</td>\n",
       "      <td>5</td>\n",
       "      <td>...</td>\n",
       "      <td>7.50</td>\n",
       "      <td>1.45</td>\n",
       "      <td>3.75</td>\n",
       "      <td>6.50</td>\n",
       "      <td>1.50</td>\n",
       "      <td>3.75</td>\n",
       "      <td>5.50</td>\n",
       "      <td>1.44</td>\n",
       "      <td>3.75</td>\n",
       "      <td>6.50</td>\n",
       "    </tr>\n",
       "    <tr>\n",
       "      <th>4</th>\n",
       "      <td>5</td>\n",
       "      <td>1</td>\n",
       "      <td>1</td>\n",
       "      <td>2008/2009</td>\n",
       "      <td>1</td>\n",
       "      <td>2008-08-16 00:00:00</td>\n",
       "      <td>492477</td>\n",
       "      <td>7947</td>\n",
       "      <td>9985</td>\n",
       "      <td>1</td>\n",
       "      <td>...</td>\n",
       "      <td>1.73</td>\n",
       "      <td>4.50</td>\n",
       "      <td>3.40</td>\n",
       "      <td>1.65</td>\n",
       "      <td>4.50</td>\n",
       "      <td>3.50</td>\n",
       "      <td>1.65</td>\n",
       "      <td>4.75</td>\n",
       "      <td>3.30</td>\n",
       "      <td>1.67</td>\n",
       "    </tr>\n",
       "  </tbody>\n",
       "</table>\n",
       "<p>5 rows × 115 columns</p>\n",
       "</div>"
      ],
      "text/plain": [
       "   id  country_id  league_id     season  stage                 date  \\\n",
       "0   1           1          1  2008/2009      1  2008-08-17 00:00:00   \n",
       "1   2           1          1  2008/2009      1  2008-08-16 00:00:00   \n",
       "2   3           1          1  2008/2009      1  2008-08-16 00:00:00   \n",
       "3   4           1          1  2008/2009      1  2008-08-17 00:00:00   \n",
       "4   5           1          1  2008/2009      1  2008-08-16 00:00:00   \n",
       "\n",
       "   match_api_id  home_team_api_id  away_team_api_id  home_team_goal  ...   \\\n",
       "0        492473              9987              9993               1  ...    \n",
       "1        492474             10000              9994               0  ...    \n",
       "2        492475              9984              8635               0  ...    \n",
       "3        492476              9991              9998               5  ...    \n",
       "4        492477              7947              9985               1  ...    \n",
       "\n",
       "    SJA   VCH   VCD   VCA   GBH   GBD   GBA   BSH   BSD   BSA  \n",
       "0  4.00  1.65  3.40  4.50  1.78  3.25  4.00  1.73  3.40  4.20  \n",
       "1  3.80  2.00  3.25  3.25  1.85  3.25  3.75  1.91  3.25  3.60  \n",
       "2  2.50  2.35  3.25  2.65  2.50  3.20  2.50  2.30  3.20  2.75  \n",
       "3  7.50  1.45  3.75  6.50  1.50  3.75  5.50  1.44  3.75  6.50  \n",
       "4  1.73  4.50  3.40  1.65  4.50  3.50  1.65  4.75  3.30  1.67  \n",
       "\n",
       "[5 rows x 115 columns]"
      ]
     },
     "execution_count": 103,
     "metadata": {},
     "output_type": "execute_result"
    }
   ],
   "source": [
    "df.head()"
   ]
  },
  {
   "cell_type": "code",
   "execution_count": 104,
   "metadata": {},
   "outputs": [
    {
     "data": {
      "text/plain": [
       "Index(['B365H', 'B365D', 'B365A', 'BWH', 'BWD', 'BWA', 'IWH', 'IWD', 'IWA',\n",
       "       'LBH', 'LBD', 'LBA', 'PSH', 'PSD', 'PSA', 'WHH', 'WHD', 'WHA', 'SJH',\n",
       "       'SJD', 'SJA', 'VCH', 'VCD', 'VCA', 'GBH', 'GBD', 'GBA', 'BSH', 'BSD',\n",
       "       'BSA'],\n",
       "      dtype='object')"
      ]
     },
     "execution_count": 104,
     "metadata": {},
     "output_type": "execute_result"
    }
   ],
   "source": [
    "df.columns[-30:]"
   ]
  },
  {
   "cell_type": "code",
   "execution_count": 105,
   "metadata": {},
   "outputs": [],
   "source": [
    "bm_names = set([x[:-1] for x in df.columns[-30:]])"
   ]
  },
  {
   "cell_type": "code",
   "execution_count": 106,
   "metadata": {
    "scrolled": true
   },
   "outputs": [
    {
     "data": {
      "text/plain": [
       "{'B365', 'BS', 'BW', 'GB', 'IW', 'LB', 'PS', 'SJ', 'VC', 'WH'}"
      ]
     },
     "execution_count": 106,
     "metadata": {},
     "output_type": "execute_result"
    }
   ],
   "source": [
    "bm_names"
   ]
  },
  {
   "cell_type": "markdown",
   "metadata": {},
   "source": [
    "## Margins calculation"
   ]
  },
  {
   "cell_type": "markdown",
   "metadata": {},
   "source": [
    "Let $x_i$ denote the odd of result $i$ for a given match and a given bookmaker. In this notebook, we use 0 for AWAY_win, 1 for DRAW and 2 for HOME_win.\n",
    "\n",
    "The estimated probability of result $i$ by the bookmaker is: $\\widehat{p}_i = \\dfrac{\\frac{1}{x_i}}{\\sum \\frac{1}{x_j}}$.\n",
    "\n",
    "Thus, the expected return for the investment of 1€ following the bookmaker's predictions is:\n",
    "$E = \\big( \\sum_i (\\widehat{p}_i x_i) \\widehat{p}_i \\big) -1$, which simplifies to $E = \\dfrac{1}{\\sum \\frac{1}{x_j}} - 1$.\n",
    "\n",
    "The bookmakers allways set $\\sum \\frac{1}{x_j} > 1$ so that the expected return of the gambler is negative. This quantity is reffered to as 'the bookmaker's margin'."
   ]
  },
  {
   "cell_type": "code",
   "execution_count": 107,
   "metadata": {},
   "outputs": [],
   "source": [
    "for bm in bm_names:\n",
    "    df[bm+'_marg'] = df[bm+'H'].map(lambda x: 1/x) \\\n",
    "                    +df[bm+'D'].map(lambda x: 1/x) \\\n",
    "                    +df[bm+'A'].map(lambda x: 1/x) "
   ]
  },
  {
   "cell_type": "markdown",
   "metadata": {},
   "source": [
    "#### True results and bookmakers prediction calculations"
   ]
  },
  {
   "cell_type": "code",
   "execution_count": 108,
   "metadata": {},
   "outputs": [],
   "source": [
    "df['result'] = (df['home_team_goal'] - df['away_team_goal']).map(lambda x: 1 + np.sign(x))"
   ]
  },
  {
   "cell_type": "code",
   "execution_count": 109,
   "metadata": {
    "scrolled": false
   },
   "outputs": [
    {
     "data": {
      "text/plain": [
       "0    1\n",
       "1    1\n",
       "2    0\n",
       "3    2\n",
       "4    0\n",
       "Name: result, dtype: int64"
      ]
     },
     "execution_count": 109,
     "metadata": {},
     "output_type": "execute_result"
    }
   ],
   "source": [
    "df['result'].head()"
   ]
  },
  {
   "cell_type": "code",
   "execution_count": 110,
   "metadata": {},
   "outputs": [],
   "source": [
    "def odd2res(odd):\n",
    "    if odd in ['A', 'D', 'H']:\n",
    "        return 0 * (odd == 'A') + 1 * (odd == 'D') + 2 * (odd == 'H')\n",
    "    else:\n",
    "        return np.nan"
   ]
  },
  {
   "cell_type": "code",
   "execution_count": 111,
   "metadata": {},
   "outputs": [],
   "source": [
    "for bm in bm_names:\n",
    "    df[bm+'_pred'] = df[[bm+'H', bm+'D', bm+'A']].idxmin(1).map(lambda x: str(x)[-1]).map(odd2res)"
   ]
  },
  {
   "cell_type": "markdown",
   "metadata": {},
   "source": [
    "### 1. Average margin VS average accuracy"
   ]
  },
  {
   "cell_type": "code",
   "execution_count": 112,
   "metadata": {},
   "outputs": [],
   "source": [
    "dum = df[[bm+'_marg' for bm in bm_names]].mean(axis=0)\n",
    "mean_marg = {bm: dum[bm+'_marg'] for bm in bm_names}"
   ]
  },
  {
   "cell_type": "code",
   "execution_count": 113,
   "metadata": {},
   "outputs": [
    {
     "data": {
      "text/plain": [
       "{'B365': 1.0615304906781624,\n",
       " 'BS': 1.0832829044271475,\n",
       " 'BW': 1.0804561149080494,\n",
       " 'GB': 1.0834303081614045,\n",
       " 'IW': 1.0992039309426902,\n",
       " 'LB': 1.0868106330486311,\n",
       " 'PS': 1.0237958640665705,\n",
       " 'SJ': 1.0690922697244931,\n",
       " 'VC': 1.0526852000381517,\n",
       " 'WH': 1.0801907397475856}"
      ]
     },
     "execution_count": 113,
     "metadata": {},
     "output_type": "execute_result"
    }
   ],
   "source": [
    "mean_marg"
   ]
  },
  {
   "cell_type": "code",
   "execution_count": 114,
   "metadata": {},
   "outputs": [],
   "source": [
    "mean_acc = {}\n",
    "for bm in bm_names:\n",
    "    idx = df[bm+'_pred'].loc[~np.isnan(df[bm+'_pred'].values)].index\n",
    "    mean_acc[bm] = (df[bm+'_pred'].loc[idx] == df['result'].loc[idx]).mean(axis=0)"
   ]
  },
  {
   "cell_type": "code",
   "execution_count": 115,
   "metadata": {},
   "outputs": [
    {
     "data": {
      "text/plain": [
       "{'B365': 0.53328611898016998,\n",
       " 'BS': 0.53223642398135729,\n",
       " 'BW': 0.53151716500553714,\n",
       " 'GB': 0.53276373393588472,\n",
       " 'IW': 0.5316607460035524,\n",
       " 'LB': 0.53143287816988827,\n",
       " 'PS': 0.52713108882521487,\n",
       " 'SJ': 0.53342691700298295,\n",
       " 'VC': 0.53287841191066998,\n",
       " 'WH': 0.53147844579327452}"
      ]
     },
     "execution_count": 115,
     "metadata": {},
     "output_type": "execute_result"
    }
   ],
   "source": [
    "mean_acc"
   ]
  },
  {
   "cell_type": "markdown",
   "metadata": {},
   "source": [
    "### 2. Correlation between BM's confidence and margin"
   ]
  },
  {
   "cell_type": "markdown",
   "metadata": {},
   "source": [
    "There seem to be no obvious correlation between the bookmakers' margins and the confidence they have in their predictions."
   ]
  },
  {
   "cell_type": "code",
   "execution_count": 116,
   "metadata": {},
   "outputs": [],
   "source": [
    "for bm in bm_names:\n",
    "    df[bm+'_pmax'] = df[[bm+'H', bm+'D', bm+'A']].min(1).map(lambda x: 1/x) / df[bm+'_marg']"
   ]
  },
  {
   "cell_type": "code",
   "execution_count": 117,
   "metadata": {
    "scrolled": false
   },
   "outputs": [
    {
     "data": {
      "text/plain": [
       "<matplotlib.axes._subplots.AxesSubplot at 0x1ea38e92c88>"
      ]
     },
     "execution_count": 117,
     "metadata": {},
     "output_type": "execute_result"
    },
    {
     "data": {
      "image/png": "[encoded data removed]",
      "text/plain": [
       "<matplotlib.figure.Figure at 0x1ea239b42b0>"
      ]
     },
     "metadata": {},
     "output_type": "display_data"
    }
   ],
   "source": [
    "df.plot.scatter(x='B365'+'_pmax', y='B365'+'_marg')"
   ]
  },
  {
   "cell_type": "code",
   "execution_count": 133,
   "metadata": {},
   "outputs": [
    {
     "data": {
      "text/plain": [
       "<matplotlib.axes._subplots.AxesSubplot at 0x1ea3a2584a8>"
      ]
     },
     "execution_count": 133,
     "metadata": {},
     "output_type": "execute_result"
    },
    {
     "data": {
      "image/png": "[encoded data removed]",
      "text/plain": [
       "<matplotlib.figure.Figure at 0x1ea2fd65cf8>"
      ]
     },
     "metadata": {},
     "output_type": "display_data"
    }
   ],
   "source": [
    "df[bm+'_pmax'].plot.hist()"
   ]
  },
  {
   "cell_type": "code",
   "execution_count": 134,
   "metadata": {},
   "outputs": [
    {
     "data": {
      "text/plain": [
       "<matplotlib.axes._subplots.AxesSubplot at 0x1ea39015080>"
      ]
     },
     "execution_count": 134,
     "metadata": {},
     "output_type": "execute_result"
    },
    {
     "data": {
      "image/png": "[encoded data removed]",
      "text/plain": [
       "<matplotlib.figure.Figure at 0x1ea2fd9b2b0>"
      ]
     },
     "metadata": {},
     "output_type": "display_data"
    }
   ],
   "source": [
    "df[bm+'_marg'].plot.hist()"
   ]
  },
  {
   "cell_type": "markdown",
   "metadata": {},
   "source": [
    "### 3. Accuracy on first and second half of each season"
   ]
  },
  {
   "cell_type": "markdown",
   "metadata": {},
   "source": [
    "Bookmakers all make better predictions during the second half of the season."
   ]
  },
  {
   "cell_type": "code",
   "execution_count": 88,
   "metadata": {},
   "outputs": [],
   "source": [
    "half_season_acc = {}\n",
    "for bm in bm_names:\n",
    "    half_season_acc[bm] = {}\n",
    "    \n",
    "    idx = df[bm+'_pred'].loc[~np.isnan(df[bm+'_pred'].values)].index\n",
    "    fst = df[df['stage'] < 20].index\n",
    "    sec = df[df['stage'] > 19].index\n",
    "    \n",
    "    fst_idx = list(set(idx) & set(fst))\n",
    "    sec_idx = list(set(idx) & set(sec))\n",
    "    \n",
    "    half_season_acc[bm]['first'] = (df[bm+'_pred'].loc[fst_idx] == df['result'].loc[fst_idx]).mean(axis=0)\n",
    "    half_season_acc[bm]['second'] = (df[bm+'_pred'].loc[sec_idx] == df['result'].loc[sec_idx]).mean(axis=0)"
   ]
  },
  {
   "cell_type": "code",
   "execution_count": 89,
   "metadata": {
    "scrolled": true
   },
   "outputs": [
    {
     "data": {
      "text/plain": [
       "{'B365': {'first': 0.53096168232067165, 'second': 0.53593409714989115},\n",
       " 'BS': {'first': 0.53003300330032999, 'second': 0.53477072578196172},\n",
       " 'BW': {'first': 0.53017456359102244, 'second': 0.53304883831199623},\n",
       " 'GB': {'first': 0.52997095326115662, 'second': 0.53597449908925321},\n",
       " 'IW': {'first': 0.52997920997921, 'second': 0.53358742258218195},\n",
       " 'LB': {'first': 0.52913752913752909, 'second': 0.53404779969650984},\n",
       " 'PS': {'first': 0.52303797468354429, 'second': 0.53175662788479883},\n",
       " 'SJ': {'first': 0.53168103448275861, 'second': 0.53549955225789947},\n",
       " 'VC': {'first': 0.53055624844100768, 'second': 0.53552793852575653},\n",
       " 'WH': {'first': 0.52949496630335302, 'second': 0.53373768006065203}}"
      ]
     },
     "execution_count": 89,
     "metadata": {},
     "output_type": "execute_result"
    }
   ],
   "source": [
    "half_season_acc"
   ]
  },
  {
   "cell_type": "markdown",
   "metadata": {},
   "source": [
    "### 4. Average margin and average accuracy by league."
   ]
  },
  {
   "cell_type": "code",
   "execution_count": 143,
   "metadata": {},
   "outputs": [
    {
     "data": {
      "text/html": [
       "<div>\n",
       "<style scoped>\n",
       "    .dataframe tbody tr th:only-of-type {\n",
       "        vertical-align: middle;\n",
       "    }\n",
       "\n",
       "    .dataframe tbody tr th {\n",
       "        vertical-align: top;\n",
       "    }\n",
       "\n",
       "    .dataframe thead th {\n",
       "        text-align: right;\n",
       "    }\n",
       "</style>\n",
       "<table border=\"1\" class=\"dataframe\">\n",
       "  <thead>\n",
       "    <tr style=\"text-align: right;\">\n",
       "      <th></th>\n",
       "      <th>VC_marg</th>\n",
       "      <th>PS_marg</th>\n",
       "      <th>BS_marg</th>\n",
       "      <th>BW_marg</th>\n",
       "      <th>WH_marg</th>\n",
       "      <th>IW_marg</th>\n",
       "      <th>SJ_marg</th>\n",
       "      <th>LB_marg</th>\n",
       "      <th>B365_marg</th>\n",
       "      <th>GB_marg</th>\n",
       "    </tr>\n",
       "    <tr>\n",
       "      <th>league_id</th>\n",
       "      <th></th>\n",
       "      <th></th>\n",
       "      <th></th>\n",
       "      <th></th>\n",
       "      <th></th>\n",
       "      <th></th>\n",
       "      <th></th>\n",
       "      <th></th>\n",
       "      <th></th>\n",
       "      <th></th>\n",
       "    </tr>\n",
       "  </thead>\n",
       "  <tbody>\n",
       "    <tr>\n",
       "      <th>1</th>\n",
       "      <td>1.072551</td>\n",
       "      <td>1.028334</td>\n",
       "      <td>1.103663</td>\n",
       "      <td>1.092610</td>\n",
       "      <td>1.098675</td>\n",
       "      <td>1.118976</td>\n",
       "      <td>1.075624</td>\n",
       "      <td>1.107387</td>\n",
       "      <td>1.070194</td>\n",
       "      <td>1.098361</td>\n",
       "    </tr>\n",
       "    <tr>\n",
       "      <th>1729</th>\n",
       "      <td>1.038593</td>\n",
       "      <td>1.020230</td>\n",
       "      <td>1.068110</td>\n",
       "      <td>1.072162</td>\n",
       "      <td>1.065787</td>\n",
       "      <td>1.089126</td>\n",
       "      <td>1.057733</td>\n",
       "      <td>1.065300</td>\n",
       "      <td>1.042276</td>\n",
       "      <td>1.073649</td>\n",
       "    </tr>\n",
       "    <tr>\n",
       "      <th>4769</th>\n",
       "      <td>1.050367</td>\n",
       "      <td>1.024847</td>\n",
       "      <td>1.084059</td>\n",
       "      <td>1.073585</td>\n",
       "      <td>1.074690</td>\n",
       "      <td>1.089643</td>\n",
       "      <td>1.069219</td>\n",
       "      <td>1.094429</td>\n",
       "      <td>1.062049</td>\n",
       "      <td>1.081278</td>\n",
       "    </tr>\n",
       "    <tr>\n",
       "      <th>7809</th>\n",
       "      <td>1.049246</td>\n",
       "      <td>1.020226</td>\n",
       "      <td>1.077406</td>\n",
       "      <td>1.072647</td>\n",
       "      <td>1.075139</td>\n",
       "      <td>1.089124</td>\n",
       "      <td>1.066497</td>\n",
       "      <td>1.078729</td>\n",
       "      <td>1.061570</td>\n",
       "      <td>1.074397</td>\n",
       "    </tr>\n",
       "    <tr>\n",
       "      <th>10257</th>\n",
       "      <td>1.049979</td>\n",
       "      <td>1.020451</td>\n",
       "      <td>1.079644</td>\n",
       "      <td>1.073533</td>\n",
       "      <td>1.075160</td>\n",
       "      <td>1.089754</td>\n",
       "      <td>1.067822</td>\n",
       "      <td>1.083048</td>\n",
       "      <td>1.062015</td>\n",
       "      <td>1.076113</td>\n",
       "    </tr>\n",
       "    <tr>\n",
       "      <th>13274</th>\n",
       "      <td>1.063820</td>\n",
       "      <td>1.028734</td>\n",
       "      <td>1.089813</td>\n",
       "      <td>1.094756</td>\n",
       "      <td>1.097437</td>\n",
       "      <td>1.121370</td>\n",
       "      <td>1.077388</td>\n",
       "      <td>1.105302</td>\n",
       "      <td>1.069247</td>\n",
       "      <td>1.096513</td>\n",
       "    </tr>\n",
       "    <tr>\n",
       "      <th>15722</th>\n",
       "      <td>NaN</td>\n",
       "      <td>NaN</td>\n",
       "      <td>NaN</td>\n",
       "      <td>NaN</td>\n",
       "      <td>NaN</td>\n",
       "      <td>NaN</td>\n",
       "      <td>NaN</td>\n",
       "      <td>NaN</td>\n",
       "      <td>NaN</td>\n",
       "      <td>NaN</td>\n",
       "    </tr>\n",
       "    <tr>\n",
       "      <th>17642</th>\n",
       "      <td>1.062174</td>\n",
       "      <td>1.028521</td>\n",
       "      <td>1.100935</td>\n",
       "      <td>1.087521</td>\n",
       "      <td>1.095793</td>\n",
       "      <td>1.113282</td>\n",
       "      <td>1.081068</td>\n",
       "      <td>1.105803</td>\n",
       "      <td>1.069044</td>\n",
       "      <td>1.093887</td>\n",
       "    </tr>\n",
       "    <tr>\n",
       "      <th>19694</th>\n",
       "      <td>1.054989</td>\n",
       "      <td>1.028749</td>\n",
       "      <td>1.078744</td>\n",
       "      <td>1.101308</td>\n",
       "      <td>1.079877</td>\n",
       "      <td>1.113487</td>\n",
       "      <td>1.082111</td>\n",
       "      <td>1.071686</td>\n",
       "      <td>1.064840</td>\n",
       "      <td>1.096356</td>\n",
       "    </tr>\n",
       "    <tr>\n",
       "      <th>21518</th>\n",
       "      <td>1.046674</td>\n",
       "      <td>1.020242</td>\n",
       "      <td>1.079309</td>\n",
       "      <td>1.073142</td>\n",
       "      <td>1.074669</td>\n",
       "      <td>1.089460</td>\n",
       "      <td>1.057851</td>\n",
       "      <td>1.080996</td>\n",
       "      <td>1.061651</td>\n",
       "      <td>1.075336</td>\n",
       "    </tr>\n",
       "    <tr>\n",
       "      <th>24558</th>\n",
       "      <td>NaN</td>\n",
       "      <td>NaN</td>\n",
       "      <td>NaN</td>\n",
       "      <td>NaN</td>\n",
       "      <td>NaN</td>\n",
       "      <td>NaN</td>\n",
       "      <td>NaN</td>\n",
       "      <td>NaN</td>\n",
       "      <td>NaN</td>\n",
       "      <td>NaN</td>\n",
       "    </tr>\n",
       "  </tbody>\n",
       "</table>\n",
       "</div>"
      ],
      "text/plain": [
       "            VC_marg   PS_marg   BS_marg   BW_marg   WH_marg   IW_marg  \\\n",
       "league_id                                                               \n",
       "1          1.072551  1.028334  1.103663  1.092610  1.098675  1.118976   \n",
       "1729       1.038593  1.020230  1.068110  1.072162  1.065787  1.089126   \n",
       "4769       1.050367  1.024847  1.084059  1.073585  1.074690  1.089643   \n",
       "7809       1.049246  1.020226  1.077406  1.072647  1.075139  1.089124   \n",
       "10257      1.049979  1.020451  1.079644  1.073533  1.075160  1.089754   \n",
       "13274      1.063820  1.028734  1.089813  1.094756  1.097437  1.121370   \n",
       "15722           NaN       NaN       NaN       NaN       NaN       NaN   \n",
       "17642      1.062174  1.028521  1.100935  1.087521  1.095793  1.113282   \n",
       "19694      1.054989  1.028749  1.078744  1.101308  1.079877  1.113487   \n",
       "21518      1.046674  1.020242  1.079309  1.073142  1.074669  1.089460   \n",
       "24558           NaN       NaN       NaN       NaN       NaN       NaN   \n",
       "\n",
       "            SJ_marg   LB_marg  B365_marg   GB_marg  \n",
       "league_id                                           \n",
       "1          1.075624  1.107387   1.070194  1.098361  \n",
       "1729       1.057733  1.065300   1.042276  1.073649  \n",
       "4769       1.069219  1.094429   1.062049  1.081278  \n",
       "7809       1.066497  1.078729   1.061570  1.074397  \n",
       "10257      1.067822  1.083048   1.062015  1.076113  \n",
       "13274      1.077388  1.105302   1.069247  1.096513  \n",
       "15722           NaN       NaN        NaN       NaN  \n",
       "17642      1.081068  1.105803   1.069044  1.093887  \n",
       "19694      1.082111  1.071686   1.064840  1.096356  \n",
       "21518      1.057851  1.080996   1.061651  1.075336  \n",
       "24558           NaN       NaN        NaN       NaN  "
      ]
     },
     "execution_count": 143,
     "metadata": {},
     "output_type": "execute_result"
    }
   ],
   "source": [
    "marg_by_league = df[['league_id']+[bm+'_marg' for bm in bm_names]].groupby('league_id').mean()\n",
    "marg_by_league"
   ]
  },
  {
   "cell_type": "code",
   "execution_count": 140,
   "metadata": {
    "scrolled": true
   },
   "outputs": [
    {
     "data": {
      "text/plain": [
       "league_id\n",
       "1        1.086637\n",
       "1729     1.059297\n",
       "4769     1.070417\n",
       "7809     1.066498\n",
       "10257    1.067752\n",
       "13274    1.084438\n",
       "15722         NaN\n",
       "17642    1.083803\n",
       "19694    1.077215\n",
       "21518    1.065933\n",
       "24558         NaN\n",
       "dtype: float64"
      ]
     },
     "execution_count": 140,
     "metadata": {},
     "output_type": "execute_result"
    }
   ],
   "source": [
    "marg_by_league.mean(axis=1)"
   ]
  },
  {
   "cell_type": "code",
   "execution_count": 141,
   "metadata": {},
   "outputs": [
    {
     "data": {
      "text/plain": [
       "{1: 0.52634608463465105,\n",
       " 1729: 0.53285690372399441,\n",
       " 4769: 0.50603319847832118,\n",
       " 7809: 0.51204660542218239,\n",
       " 10257: 0.53623937503526131,\n",
       " 13274: 0.55393270258256488,\n",
       " 15722: nan,\n",
       " 17642: 0.54684117359451445,\n",
       " 19694: 0.50112555510463075,\n",
       " 21518: 0.56138605548986864,\n",
       " 24558: nan}"
      ]
     },
     "execution_count": 141,
     "metadata": {},
     "output_type": "execute_result"
    }
   ],
   "source": [
    "acc_by_league = {}\n",
    "for league in df['league_id'].unique():\n",
    "    acc = 0.\n",
    "    for bm in bm_names:\n",
    "        idx = df[bm+'_pred'].loc[~np.isnan(df[bm+'_pred'].values)].index\n",
    "        idx = set(idx) & set(df[df['league_id']==league].index)\n",
    "        \n",
    "        acc += (df[bm+'_pred'].loc[idx] == df['result'].loc[idx]).mean(axis=0)\n",
    "    \n",
    "    acc_by_league[league] = acc / len(bm_names)\n",
    "\n",
    "acc_by_league"
   ]
  },
  {
   "cell_type": "code",
   "execution_count": 152,
   "metadata": {
    "scrolled": true
   },
   "outputs": [
    {
     "data": {
      "text/plain": [
       "<matplotlib.collections.PathCollection at 0x1ea2fd4fe10>"
      ]
     },
     "execution_count": 152,
     "metadata": {},
     "output_type": "execute_result"
    },
    {
     "data": {
      "image/png": "[encoded data removed]",
      "text/plain": [
       "<matplotlib.figure.Figure at 0x1ea39081ac8>"
      ]
     },
     "metadata": {},
     "output_type": "display_data"
    }
   ],
   "source": [
    "plt.scatter([v for k,v in acc_by_league.items() if not np.isnan(v)], \n",
    "            [v for v in marg_by_league.mean(axis=1).values if not np.isnan(v)],\n",
    "            marker = '+')"
   ]
  },
  {
   "cell_type": "markdown",
   "metadata": {},
   "source": [
    "### 4.2 Latest trends by league"
   ]
  },
  {
   "cell_type": "code",
   "execution_count": 154,
   "metadata": {},
   "outputs": [],
   "source": [
    "latest = df[df['season']=='2015/2016']"
   ]
  },
  {
   "cell_type": "code",
   "execution_count": 155,
   "metadata": {
    "scrolled": true
   },
   "outputs": [
    {
     "data": {
      "text/html": [
       "<div>\n",
       "<style scoped>\n",
       "    .dataframe tbody tr th:only-of-type {\n",
       "        vertical-align: middle;\n",
       "    }\n",
       "\n",
       "    .dataframe tbody tr th {\n",
       "        vertical-align: top;\n",
       "    }\n",
       "\n",
       "    .dataframe thead th {\n",
       "        text-align: right;\n",
       "    }\n",
       "</style>\n",
       "<table border=\"1\" class=\"dataframe\">\n",
       "  <thead>\n",
       "    <tr style=\"text-align: right;\">\n",
       "      <th></th>\n",
       "      <th>VC_marg</th>\n",
       "      <th>PS_marg</th>\n",
       "      <th>BS_marg</th>\n",
       "      <th>BW_marg</th>\n",
       "      <th>WH_marg</th>\n",
       "      <th>IW_marg</th>\n",
       "      <th>SJ_marg</th>\n",
       "      <th>LB_marg</th>\n",
       "      <th>B365_marg</th>\n",
       "      <th>GB_marg</th>\n",
       "    </tr>\n",
       "    <tr>\n",
       "      <th>league_id</th>\n",
       "      <th></th>\n",
       "      <th></th>\n",
       "      <th></th>\n",
       "      <th></th>\n",
       "      <th></th>\n",
       "      <th></th>\n",
       "      <th></th>\n",
       "      <th></th>\n",
       "      <th></th>\n",
       "      <th></th>\n",
       "    </tr>\n",
       "  </thead>\n",
       "  <tbody>\n",
       "    <tr>\n",
       "      <th>1</th>\n",
       "      <td>1.055869</td>\n",
       "      <td>1.026168</td>\n",
       "      <td>NaN</td>\n",
       "      <td>1.069454</td>\n",
       "      <td>1.089728</td>\n",
       "      <td>1.080849</td>\n",
       "      <td>NaN</td>\n",
       "      <td>1.067632</td>\n",
       "      <td>1.065063</td>\n",
       "      <td>NaN</td>\n",
       "    </tr>\n",
       "    <tr>\n",
       "      <th>1729</th>\n",
       "      <td>1.025329</td>\n",
       "      <td>1.020280</td>\n",
       "      <td>NaN</td>\n",
       "      <td>1.060845</td>\n",
       "      <td>1.060589</td>\n",
       "      <td>1.080313</td>\n",
       "      <td>NaN</td>\n",
       "      <td>1.051161</td>\n",
       "      <td>1.027653</td>\n",
       "      <td>NaN</td>\n",
       "    </tr>\n",
       "    <tr>\n",
       "      <th>4769</th>\n",
       "      <td>1.033502</td>\n",
       "      <td>1.024609</td>\n",
       "      <td>NaN</td>\n",
       "      <td>1.062299</td>\n",
       "      <td>1.060490</td>\n",
       "      <td>1.080340</td>\n",
       "      <td>NaN</td>\n",
       "      <td>1.069620</td>\n",
       "      <td>1.051501</td>\n",
       "      <td>NaN</td>\n",
       "    </tr>\n",
       "    <tr>\n",
       "      <th>7809</th>\n",
       "      <td>1.037612</td>\n",
       "      <td>1.020189</td>\n",
       "      <td>NaN</td>\n",
       "      <td>1.063206</td>\n",
       "      <td>1.061802</td>\n",
       "      <td>1.080532</td>\n",
       "      <td>NaN</td>\n",
       "      <td>1.063592</td>\n",
       "      <td>1.051288</td>\n",
       "      <td>NaN</td>\n",
       "    </tr>\n",
       "    <tr>\n",
       "      <th>10257</th>\n",
       "      <td>1.037254</td>\n",
       "      <td>1.020322</td>\n",
       "      <td>NaN</td>\n",
       "      <td>1.059815</td>\n",
       "      <td>1.060833</td>\n",
       "      <td>1.080260</td>\n",
       "      <td>NaN</td>\n",
       "      <td>1.065708</td>\n",
       "      <td>1.051259</td>\n",
       "      <td>NaN</td>\n",
       "    </tr>\n",
       "    <tr>\n",
       "      <th>13274</th>\n",
       "      <td>1.047838</td>\n",
       "      <td>1.025826</td>\n",
       "      <td>NaN</td>\n",
       "      <td>1.080135</td>\n",
       "      <td>1.089285</td>\n",
       "      <td>1.102934</td>\n",
       "      <td>NaN</td>\n",
       "      <td>1.066199</td>\n",
       "      <td>1.065237</td>\n",
       "      <td>NaN</td>\n",
       "    </tr>\n",
       "    <tr>\n",
       "      <th>15722</th>\n",
       "      <td>NaN</td>\n",
       "      <td>NaN</td>\n",
       "      <td>NaN</td>\n",
       "      <td>NaN</td>\n",
       "      <td>NaN</td>\n",
       "      <td>NaN</td>\n",
       "      <td>NaN</td>\n",
       "      <td>NaN</td>\n",
       "      <td>NaN</td>\n",
       "      <td>NaN</td>\n",
       "    </tr>\n",
       "    <tr>\n",
       "      <th>17642</th>\n",
       "      <td>1.047067</td>\n",
       "      <td>1.025674</td>\n",
       "      <td>NaN</td>\n",
       "      <td>1.079053</td>\n",
       "      <td>1.089046</td>\n",
       "      <td>1.100329</td>\n",
       "      <td>NaN</td>\n",
       "      <td>1.067597</td>\n",
       "      <td>1.064330</td>\n",
       "      <td>NaN</td>\n",
       "    </tr>\n",
       "    <tr>\n",
       "      <th>19694</th>\n",
       "      <td>1.040152</td>\n",
       "      <td>1.026027</td>\n",
       "      <td>NaN</td>\n",
       "      <td>1.099745</td>\n",
       "      <td>1.062667</td>\n",
       "      <td>1.100997</td>\n",
       "      <td>NaN</td>\n",
       "      <td>1.064450</td>\n",
       "      <td>1.064248</td>\n",
       "      <td>NaN</td>\n",
       "    </tr>\n",
       "    <tr>\n",
       "      <th>21518</th>\n",
       "      <td>1.029311</td>\n",
       "      <td>1.020179</td>\n",
       "      <td>NaN</td>\n",
       "      <td>1.062040</td>\n",
       "      <td>1.061538</td>\n",
       "      <td>1.080649</td>\n",
       "      <td>NaN</td>\n",
       "      <td>1.061808</td>\n",
       "      <td>1.051227</td>\n",
       "      <td>NaN</td>\n",
       "    </tr>\n",
       "    <tr>\n",
       "      <th>24558</th>\n",
       "      <td>NaN</td>\n",
       "      <td>NaN</td>\n",
       "      <td>NaN</td>\n",
       "      <td>NaN</td>\n",
       "      <td>NaN</td>\n",
       "      <td>NaN</td>\n",
       "      <td>NaN</td>\n",
       "      <td>NaN</td>\n",
       "      <td>NaN</td>\n",
       "      <td>NaN</td>\n",
       "    </tr>\n",
       "  </tbody>\n",
       "</table>\n",
       "</div>"
      ],
      "text/plain": [
       "            VC_marg   PS_marg  BS_marg   BW_marg   WH_marg   IW_marg  SJ_marg  \\\n",
       "league_id                                                                       \n",
       "1          1.055869  1.026168      NaN  1.069454  1.089728  1.080849      NaN   \n",
       "1729       1.025329  1.020280      NaN  1.060845  1.060589  1.080313      NaN   \n",
       "4769       1.033502  1.024609      NaN  1.062299  1.060490  1.080340      NaN   \n",
       "7809       1.037612  1.020189      NaN  1.063206  1.061802  1.080532      NaN   \n",
       "10257      1.037254  1.020322      NaN  1.059815  1.060833  1.080260      NaN   \n",
       "13274      1.047838  1.025826      NaN  1.080135  1.089285  1.102934      NaN   \n",
       "15722           NaN       NaN      NaN       NaN       NaN       NaN      NaN   \n",
       "17642      1.047067  1.025674      NaN  1.079053  1.089046  1.100329      NaN   \n",
       "19694      1.040152  1.026027      NaN  1.099745  1.062667  1.100997      NaN   \n",
       "21518      1.029311  1.020179      NaN  1.062040  1.061538  1.080649      NaN   \n",
       "24558           NaN       NaN      NaN       NaN       NaN       NaN      NaN   \n",
       "\n",
       "            LB_marg  B365_marg  GB_marg  \n",
       "league_id                                \n",
       "1          1.067632   1.065063      NaN  \n",
       "1729       1.051161   1.027653      NaN  \n",
       "4769       1.069620   1.051501      NaN  \n",
       "7809       1.063592   1.051288      NaN  \n",
       "10257      1.065708   1.051259      NaN  \n",
       "13274      1.066199   1.065237      NaN  \n",
       "15722           NaN        NaN      NaN  \n",
       "17642      1.067597   1.064330      NaN  \n",
       "19694      1.064450   1.064248      NaN  \n",
       "21518      1.061808   1.051227      NaN  \n",
       "24558           NaN        NaN      NaN  "
      ]
     },
     "execution_count": 155,
     "metadata": {},
     "output_type": "execute_result"
    }
   ],
   "source": [
    "marg_by_league = latest[['league_id']+[bm+'_marg' for bm in bm_names]].groupby('league_id').mean()\n",
    "marg_by_league"
   ]
  },
  {
   "cell_type": "code",
   "execution_count": 156,
   "metadata": {
    "scrolled": true
   },
   "outputs": [
    {
     "data": {
      "text/plain": [
       "league_id\n",
       "1        1.064966\n",
       "1729     1.046596\n",
       "4769     1.054623\n",
       "7809     1.054032\n",
       "10257    1.053636\n",
       "13274    1.068208\n",
       "15722         NaN\n",
       "17642    1.067585\n",
       "19694    1.065469\n",
       "21518    1.052393\n",
       "24558         NaN\n",
       "dtype: float64"
      ]
     },
     "execution_count": 156,
     "metadata": {},
     "output_type": "execute_result"
    }
   ],
   "source": [
    "marg_by_league.mean(axis=1)"
   ]
  },
  {
   "cell_type": "code",
   "execution_count": 160,
   "metadata": {},
   "outputs": [
    {
     "data": {
      "text/plain": [
       "{1: 0.51697798366208403,\n",
       " 1729: 0.47386275715674414,\n",
       " 4769: 0.4921003035292717,\n",
       " 7809: 0.5266106442577031,\n",
       " 10257: 0.53403594738825955,\n",
       " 13274: 0.55098513521025327,\n",
       " 15722: nan,\n",
       " 17642: 0.55025791737460017,\n",
       " 19694: 0.46731505726446454,\n",
       " 21518: 0.54644593012875198,\n",
       " 24558: nan}"
      ]
     },
     "execution_count": 160,
     "metadata": {},
     "output_type": "execute_result"
    }
   ],
   "source": [
    "acc_by_league = {}\n",
    "for league in latest['league_id'].unique():\n",
    "    acc = 0.\n",
    "    for bm in set(bm_names) - set(['BS', 'SJ', 'GB']):\n",
    "        idx = latest[bm+'_pred'].loc[~np.isnan(latest[bm+'_pred'].values)].index\n",
    "        idx = set(idx) & set(latest[latest['league_id']==league].index)\n",
    "        \n",
    "        acc += (latest[bm+'_pred'].loc[idx] == latest['result'].loc[idx]).mean(axis=0)\n",
    "    \n",
    "    acc_by_league[league] = acc / (len(bm_names) - 3)\n",
    "\n",
    "acc_by_league"
   ]
  },
  {
   "cell_type": "code",
   "execution_count": 161,
   "metadata": {
    "scrolled": true
   },
   "outputs": [
    {
     "data": {
      "text/plain": [
       "<matplotlib.collections.PathCollection at 0x1ea38fd09e8>"
      ]
     },
     "execution_count": 161,
     "metadata": {},
     "output_type": "execute_result"
    },
    {
     "data": {
      "image/png": "[encoded data removed]",
      "text/plain": [
       "<matplotlib.figure.Figure at 0x1ea345ec518>"
      ]
     },
     "metadata": {},
     "output_type": "display_data"
    }
   ],
   "source": [
    "plt.scatter([v for k,v in acc_by_league.items() if not np.isnan(v)], \n",
    "            [v for v in marg_by_league.mean(axis=1).values if not np.isnan(v)],\n",
    "            marker = '+')"
   ]
  }
 ],
 "metadata": {
  "kernelspec": {
   "display_name": "Python 3",
   "language": "python",
   "name": "python3"
  },
  "language_info": {
   "codemirror_mode": {
    "name": "ipython",
    "version": 3
   },
   "file_extension": ".py",
   "mimetype": "text/x-python",
   "name": "python",
   "nbconvert_exporter": "python",
   "pygments_lexer": "ipython3",
   "version": "3.5.4"
  }
 },
 "nbformat": 4,
 "nbformat_minor": 2
}
